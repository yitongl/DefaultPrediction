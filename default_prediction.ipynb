{
 "cells": [
  {
   "cell_type": "markdown",
   "metadata": {},
   "source": [
    "# Data Science default prediction"
   ]
  },
  {
   "cell_type": "markdown",
   "metadata": {},
   "source": [
    "For builiding a machine learning model in order to solve the above problem, we need to conduct the following processes:\n",
    "\n",
    "*1. Data Exploration*\n",
    "* Explore data, try to understand features and their types and in which form they should represent a feature\n",
    "* Deal with missing values, try to impute with the best strategy\n",
    "* Deal with imbalanced data, with resampling or weight adjusting\n",
    "\n",
    "*2. Model building*\n",
    "* Choose the appropriate model to implement\n",
    "* Encoding features if needed\n",
    "* Feature engineering\n",
    "* Hyperparameter tuning\n",
    "\n",
    "*3. Model validation*\n",
    "* Usse train-test split or K-fold to validate model \n",
    "* Use confusion Matrix, precision, recall, and roc curve etc to evaluate model performance"
   ]
  },
  {
   "cell_type": "markdown",
   "metadata": {},
   "source": [
    "Importing all useful libraries:"
   ]
  },
  {
   "cell_type": "code",
   "execution_count": 1,
   "metadata": {},
   "outputs": [],
   "source": [
    "%matplotlib inline\n",
    "import pandas as pd\n",
    "import numpy as np\n",
    "from matplotlib import pyplot as plt\n",
    "from sklearn import preprocessing\n",
    "from sklearn.preprocessing import OneHotEncoder\n",
    "from sklearn.externals import joblib\n",
    "from sklearn.preprocessing import Imputer\n",
    "from sklearn.model_selection import train_test_split, KFold\n",
    "from sklearn.ensemble import RandomForestClassifier, GradientBoostingClassifier\n",
    "from sklearn import metrics\n",
    "from sklearn.metrics import confusion_matrix, roc_curve, roc_auc_score, accuracy_score, precision_score, recall_score, f1_score\n",
    "from IPython.display import display\n",
    "from imblearn.over_sampling import SMOTE"
   ]
  },
  {
   "cell_type": "code",
   "execution_count": 2,
   "metadata": {},
   "outputs": [],
   "source": [
    "df = pd.read_csv('dataset.csv', ';')"
   ]
  },
  {
   "cell_type": "markdown",
   "metadata": {},
   "source": [
    "### Data inspection"
   ]
  },
  {
   "cell_type": "code",
   "execution_count": 3,
   "metadata": {},
   "outputs": [
    {
     "data": {
      "text/html": [
       "<div>\n",
       "<style scoped>\n",
       "    .dataframe tbody tr th:only-of-type {\n",
       "        vertical-align: middle;\n",
       "    }\n",
       "\n",
       "    .dataframe tbody tr th {\n",
       "        vertical-align: top;\n",
       "    }\n",
       "\n",
       "    .dataframe thead th {\n",
       "        text-align: right;\n",
       "    }\n",
       "</style>\n",
       "<table border=\"1\" class=\"dataframe\">\n",
       "  <thead>\n",
       "    <tr style=\"text-align: right;\">\n",
       "      <th></th>\n",
       "      <th>uuid</th>\n",
       "      <th>default</th>\n",
       "      <th>account_amount_added_12_24m</th>\n",
       "      <th>account_days_in_dc_12_24m</th>\n",
       "      <th>account_days_in_rem_12_24m</th>\n",
       "      <th>account_days_in_term_12_24m</th>\n",
       "      <th>account_incoming_debt_vs_paid_0_24m</th>\n",
       "      <th>account_status</th>\n",
       "      <th>account_worst_status_0_3m</th>\n",
       "      <th>account_worst_status_12_24m</th>\n",
       "      <th>account_worst_status_3_6m</th>\n",
       "      <th>account_worst_status_6_12m</th>\n",
       "      <th>age</th>\n",
       "      <th>avg_payment_span_0_12m</th>\n",
       "      <th>avg_payment_span_0_3m</th>\n",
       "      <th>merchant_category</th>\n",
       "      <th>merchant_group</th>\n",
       "      <th>has_paid</th>\n",
       "      <th>max_paid_inv_0_12m</th>\n",
       "      <th>max_paid_inv_0_24m</th>\n",
       "      <th>name_in_email</th>\n",
       "      <th>num_active_div_by_paid_inv_0_12m</th>\n",
       "      <th>num_active_inv</th>\n",
       "      <th>num_arch_dc_0_12m</th>\n",
       "      <th>num_arch_dc_12_24m</th>\n",
       "      <th>num_arch_ok_0_12m</th>\n",
       "      <th>num_arch_ok_12_24m</th>\n",
       "      <th>num_arch_rem_0_12m</th>\n",
       "      <th>num_arch_written_off_0_12m</th>\n",
       "      <th>num_arch_written_off_12_24m</th>\n",
       "      <th>num_unpaid_bills</th>\n",
       "      <th>status_last_archived_0_24m</th>\n",
       "      <th>status_2nd_last_archived_0_24m</th>\n",
       "      <th>status_3rd_last_archived_0_24m</th>\n",
       "      <th>status_max_archived_0_6_months</th>\n",
       "      <th>status_max_archived_0_12_months</th>\n",
       "      <th>status_max_archived_0_24_months</th>\n",
       "      <th>recovery_debt</th>\n",
       "      <th>sum_capital_paid_account_0_12m</th>\n",
       "      <th>sum_capital_paid_account_12_24m</th>\n",
       "      <th>sum_paid_inv_0_12m</th>\n",
       "      <th>time_hours</th>\n",
       "      <th>worst_status_active_inv</th>\n",
       "    </tr>\n",
       "  </thead>\n",
       "  <tbody>\n",
       "    <tr>\n",
       "      <th>99971</th>\n",
       "      <td>5c03bc63-ea65-4ffd-aa7b-95ea9a46db34</td>\n",
       "      <td>NaN</td>\n",
       "      <td>0</td>\n",
       "      <td>0.0</td>\n",
       "      <td>0.0</td>\n",
       "      <td>0.0</td>\n",
       "      <td>NaN</td>\n",
       "      <td>1.0</td>\n",
       "      <td>1.0</td>\n",
       "      <td>NaN</td>\n",
       "      <td>NaN</td>\n",
       "      <td>NaN</td>\n",
       "      <td>33</td>\n",
       "      <td>10.333333</td>\n",
       "      <td>NaN</td>\n",
       "      <td>Electronic equipment &amp; Related accessories</td>\n",
       "      <td>Electronics</td>\n",
       "      <td>True</td>\n",
       "      <td>35195.0</td>\n",
       "      <td>35195.0</td>\n",
       "      <td>F1+L</td>\n",
       "      <td>0.0</td>\n",
       "      <td>0</td>\n",
       "      <td>0</td>\n",
       "      <td>0</td>\n",
       "      <td>6</td>\n",
       "      <td>2</td>\n",
       "      <td>0</td>\n",
       "      <td>0.0</td>\n",
       "      <td>0.0</td>\n",
       "      <td>0</td>\n",
       "      <td>1</td>\n",
       "      <td>1</td>\n",
       "      <td>1</td>\n",
       "      <td>1</td>\n",
       "      <td>1</td>\n",
       "      <td>1</td>\n",
       "      <td>0</td>\n",
       "      <td>0</td>\n",
       "      <td>0</td>\n",
       "      <td>60127</td>\n",
       "      <td>10.765556</td>\n",
       "      <td>NaN</td>\n",
       "    </tr>\n",
       "    <tr>\n",
       "      <th>99972</th>\n",
       "      <td>f8db22f4-9819-420c-abbc-9ddf1843176e</td>\n",
       "      <td>NaN</td>\n",
       "      <td>0</td>\n",
       "      <td>0.0</td>\n",
       "      <td>0.0</td>\n",
       "      <td>0.0</td>\n",
       "      <td>0.004044</td>\n",
       "      <td>1.0</td>\n",
       "      <td>1.0</td>\n",
       "      <td>NaN</td>\n",
       "      <td>1.0</td>\n",
       "      <td>1.0</td>\n",
       "      <td>44</td>\n",
       "      <td>36.000000</td>\n",
       "      <td>NaN</td>\n",
       "      <td>Body &amp; Hair Care</td>\n",
       "      <td>Health &amp; Beauty</td>\n",
       "      <td>True</td>\n",
       "      <td>4740.0</td>\n",
       "      <td>4740.0</td>\n",
       "      <td>F1+L</td>\n",
       "      <td>0.0</td>\n",
       "      <td>0</td>\n",
       "      <td>0</td>\n",
       "      <td>0</td>\n",
       "      <td>1</td>\n",
       "      <td>3</td>\n",
       "      <td>0</td>\n",
       "      <td>0.0</td>\n",
       "      <td>0.0</td>\n",
       "      <td>1</td>\n",
       "      <td>1</td>\n",
       "      <td>1</td>\n",
       "      <td>1</td>\n",
       "      <td>0</td>\n",
       "      <td>1</td>\n",
       "      <td>1</td>\n",
       "      <td>0</td>\n",
       "      <td>7948</td>\n",
       "      <td>0</td>\n",
       "      <td>4740</td>\n",
       "      <td>21.708333</td>\n",
       "      <td>NaN</td>\n",
       "    </tr>\n",
       "    <tr>\n",
       "      <th>99973</th>\n",
       "      <td>b22e21ea-b1b2-4df3-b236-0ff6d5fdc0d8</td>\n",
       "      <td>NaN</td>\n",
       "      <td>45671</td>\n",
       "      <td>0.0</td>\n",
       "      <td>20.0</td>\n",
       "      <td>0.0</td>\n",
       "      <td>0.705078</td>\n",
       "      <td>2.0</td>\n",
       "      <td>2.0</td>\n",
       "      <td>2.0</td>\n",
       "      <td>1.0</td>\n",
       "      <td>1.0</td>\n",
       "      <td>24</td>\n",
       "      <td>NaN</td>\n",
       "      <td>NaN</td>\n",
       "      <td>Jewelry &amp; Watches</td>\n",
       "      <td>Jewelry &amp; Accessories</td>\n",
       "      <td>True</td>\n",
       "      <td>1200.0</td>\n",
       "      <td>1200.0</td>\n",
       "      <td>Nick</td>\n",
       "      <td>NaN</td>\n",
       "      <td>0</td>\n",
       "      <td>0</td>\n",
       "      <td>0</td>\n",
       "      <td>0</td>\n",
       "      <td>0</td>\n",
       "      <td>0</td>\n",
       "      <td>NaN</td>\n",
       "      <td>NaN</td>\n",
       "      <td>18</td>\n",
       "      <td>0</td>\n",
       "      <td>0</td>\n",
       "      <td>0</td>\n",
       "      <td>0</td>\n",
       "      <td>0</td>\n",
       "      <td>0</td>\n",
       "      <td>0</td>\n",
       "      <td>17447</td>\n",
       "      <td>19627</td>\n",
       "      <td>3100</td>\n",
       "      <td>2.185278</td>\n",
       "      <td>NaN</td>\n",
       "    </tr>\n",
       "    <tr>\n",
       "      <th>99974</th>\n",
       "      <td>bafcab15-9898-479c-b729-c9dda7edb78f</td>\n",
       "      <td>NaN</td>\n",
       "      <td>56102</td>\n",
       "      <td>0.0</td>\n",
       "      <td>0.0</td>\n",
       "      <td>0.0</td>\n",
       "      <td>0.064175</td>\n",
       "      <td>1.0</td>\n",
       "      <td>2.0</td>\n",
       "      <td>1.0</td>\n",
       "      <td>2.0</td>\n",
       "      <td>2.0</td>\n",
       "      <td>31</td>\n",
       "      <td>17.500000</td>\n",
       "      <td>NaN</td>\n",
       "      <td>Decoration &amp; Art</td>\n",
       "      <td>Home &amp; Garden</td>\n",
       "      <td>True</td>\n",
       "      <td>15000.0</td>\n",
       "      <td>15000.0</td>\n",
       "      <td>Nick</td>\n",
       "      <td>0.0</td>\n",
       "      <td>0</td>\n",
       "      <td>0</td>\n",
       "      <td>0</td>\n",
       "      <td>2</td>\n",
       "      <td>1</td>\n",
       "      <td>0</td>\n",
       "      <td>0.0</td>\n",
       "      <td>0.0</td>\n",
       "      <td>1</td>\n",
       "      <td>1</td>\n",
       "      <td>1</td>\n",
       "      <td>1</td>\n",
       "      <td>1</td>\n",
       "      <td>1</td>\n",
       "      <td>1</td>\n",
       "      <td>0</td>\n",
       "      <td>18339</td>\n",
       "      <td>56180</td>\n",
       "      <td>34785</td>\n",
       "      <td>9.725278</td>\n",
       "      <td>NaN</td>\n",
       "    </tr>\n",
       "    <tr>\n",
       "      <th>99975</th>\n",
       "      <td>ac88f18c-96a6-49bc-9e9d-a780225914af</td>\n",
       "      <td>NaN</td>\n",
       "      <td>0</td>\n",
       "      <td>0.0</td>\n",
       "      <td>0.0</td>\n",
       "      <td>0.0</td>\n",
       "      <td>NaN</td>\n",
       "      <td>1.0</td>\n",
       "      <td>1.0</td>\n",
       "      <td>NaN</td>\n",
       "      <td>1.0</td>\n",
       "      <td>NaN</td>\n",
       "      <td>41</td>\n",
       "      <td>34.666667</td>\n",
       "      <td>37.5</td>\n",
       "      <td>Dietary supplements</td>\n",
       "      <td>Health &amp; Beauty</td>\n",
       "      <td>True</td>\n",
       "      <td>13246.0</td>\n",
       "      <td>14817.0</td>\n",
       "      <td>F1+L</td>\n",
       "      <td>0.0</td>\n",
       "      <td>0</td>\n",
       "      <td>0</td>\n",
       "      <td>0</td>\n",
       "      <td>2</td>\n",
       "      <td>2</td>\n",
       "      <td>1</td>\n",
       "      <td>0.0</td>\n",
       "      <td>0.0</td>\n",
       "      <td>1</td>\n",
       "      <td>2</td>\n",
       "      <td>1</td>\n",
       "      <td>1</td>\n",
       "      <td>2</td>\n",
       "      <td>2</td>\n",
       "      <td>2</td>\n",
       "      <td>0</td>\n",
       "      <td>0</td>\n",
       "      <td>0</td>\n",
       "      <td>30602</td>\n",
       "      <td>11.585278</td>\n",
       "      <td>NaN</td>\n",
       "    </tr>\n",
       "  </tbody>\n",
       "</table>\n",
       "</div>"
      ],
      "text/plain": [
       "                                       uuid  default  \\\n",
       "99971  5c03bc63-ea65-4ffd-aa7b-95ea9a46db34      NaN   \n",
       "99972  f8db22f4-9819-420c-abbc-9ddf1843176e      NaN   \n",
       "99973  b22e21ea-b1b2-4df3-b236-0ff6d5fdc0d8      NaN   \n",
       "99974  bafcab15-9898-479c-b729-c9dda7edb78f      NaN   \n",
       "99975  ac88f18c-96a6-49bc-9e9d-a780225914af      NaN   \n",
       "\n",
       "       account_amount_added_12_24m  account_days_in_dc_12_24m  \\\n",
       "99971                            0                        0.0   \n",
       "99972                            0                        0.0   \n",
       "99973                        45671                        0.0   \n",
       "99974                        56102                        0.0   \n",
       "99975                            0                        0.0   \n",
       "\n",
       "       account_days_in_rem_12_24m  account_days_in_term_12_24m  \\\n",
       "99971                         0.0                          0.0   \n",
       "99972                         0.0                          0.0   \n",
       "99973                        20.0                          0.0   \n",
       "99974                         0.0                          0.0   \n",
       "99975                         0.0                          0.0   \n",
       "\n",
       "       account_incoming_debt_vs_paid_0_24m  account_status  \\\n",
       "99971                                  NaN             1.0   \n",
       "99972                             0.004044             1.0   \n",
       "99973                             0.705078             2.0   \n",
       "99974                             0.064175             1.0   \n",
       "99975                                  NaN             1.0   \n",
       "\n",
       "       account_worst_status_0_3m  account_worst_status_12_24m  \\\n",
       "99971                        1.0                          NaN   \n",
       "99972                        1.0                          NaN   \n",
       "99973                        2.0                          2.0   \n",
       "99974                        2.0                          1.0   \n",
       "99975                        1.0                          NaN   \n",
       "\n",
       "       account_worst_status_3_6m  account_worst_status_6_12m  age  \\\n",
       "99971                        NaN                         NaN   33   \n",
       "99972                        1.0                         1.0   44   \n",
       "99973                        1.0                         1.0   24   \n",
       "99974                        2.0                         2.0   31   \n",
       "99975                        1.0                         NaN   41   \n",
       "\n",
       "       avg_payment_span_0_12m  avg_payment_span_0_3m  \\\n",
       "99971               10.333333                    NaN   \n",
       "99972               36.000000                    NaN   \n",
       "99973                     NaN                    NaN   \n",
       "99974               17.500000                    NaN   \n",
       "99975               34.666667                   37.5   \n",
       "\n",
       "                                merchant_category         merchant_group  \\\n",
       "99971  Electronic equipment & Related accessories            Electronics   \n",
       "99972                            Body & Hair Care        Health & Beauty   \n",
       "99973                           Jewelry & Watches  Jewelry & Accessories   \n",
       "99974                            Decoration & Art          Home & Garden   \n",
       "99975                         Dietary supplements        Health & Beauty   \n",
       "\n",
       "       has_paid  max_paid_inv_0_12m  max_paid_inv_0_24m name_in_email  \\\n",
       "99971      True             35195.0             35195.0          F1+L   \n",
       "99972      True              4740.0              4740.0          F1+L   \n",
       "99973      True              1200.0              1200.0          Nick   \n",
       "99974      True             15000.0             15000.0          Nick   \n",
       "99975      True             13246.0             14817.0          F1+L   \n",
       "\n",
       "       num_active_div_by_paid_inv_0_12m  num_active_inv  num_arch_dc_0_12m  \\\n",
       "99971                               0.0               0                  0   \n",
       "99972                               0.0               0                  0   \n",
       "99973                               NaN               0                  0   \n",
       "99974                               0.0               0                  0   \n",
       "99975                               0.0               0                  0   \n",
       "\n",
       "       num_arch_dc_12_24m  num_arch_ok_0_12m  num_arch_ok_12_24m  \\\n",
       "99971                   0                  6                   2   \n",
       "99972                   0                  1                   3   \n",
       "99973                   0                  0                   0   \n",
       "99974                   0                  2                   1   \n",
       "99975                   0                  2                   2   \n",
       "\n",
       "       num_arch_rem_0_12m  num_arch_written_off_0_12m  \\\n",
       "99971                   0                         0.0   \n",
       "99972                   0                         0.0   \n",
       "99973                   0                         NaN   \n",
       "99974                   0                         0.0   \n",
       "99975                   1                         0.0   \n",
       "\n",
       "       num_arch_written_off_12_24m  num_unpaid_bills  \\\n",
       "99971                          0.0                 0   \n",
       "99972                          0.0                 1   \n",
       "99973                          NaN                18   \n",
       "99974                          0.0                 1   \n",
       "99975                          0.0                 1   \n",
       "\n",
       "       status_last_archived_0_24m  status_2nd_last_archived_0_24m  \\\n",
       "99971                           1                               1   \n",
       "99972                           1                               1   \n",
       "99973                           0                               0   \n",
       "99974                           1                               1   \n",
       "99975                           2                               1   \n",
       "\n",
       "       status_3rd_last_archived_0_24m  status_max_archived_0_6_months  \\\n",
       "99971                               1                               1   \n",
       "99972                               1                               0   \n",
       "99973                               0                               0   \n",
       "99974                               1                               1   \n",
       "99975                               1                               2   \n",
       "\n",
       "       status_max_archived_0_12_months  status_max_archived_0_24_months  \\\n",
       "99971                                1                                1   \n",
       "99972                                1                                1   \n",
       "99973                                0                                0   \n",
       "99974                                1                                1   \n",
       "99975                                2                                2   \n",
       "\n",
       "       recovery_debt  sum_capital_paid_account_0_12m  \\\n",
       "99971              0                               0   \n",
       "99972              0                            7948   \n",
       "99973              0                           17447   \n",
       "99974              0                           18339   \n",
       "99975              0                               0   \n",
       "\n",
       "       sum_capital_paid_account_12_24m  sum_paid_inv_0_12m  time_hours  \\\n",
       "99971                                0               60127   10.765556   \n",
       "99972                                0                4740   21.708333   \n",
       "99973                            19627                3100    2.185278   \n",
       "99974                            56180               34785    9.725278   \n",
       "99975                                0               30602   11.585278   \n",
       "\n",
       "       worst_status_active_inv  \n",
       "99971                      NaN  \n",
       "99972                      NaN  \n",
       "99973                      NaN  \n",
       "99974                      NaN  \n",
       "99975                      NaN  "
      ]
     },
     "execution_count": 3,
     "metadata": {},
     "output_type": "execute_result"
    }
   ],
   "source": [
    "pd.options.display.max_columns = None\n",
    "pd.options.display.max_rows = None\n",
    "df.tail()"
   ]
  },
  {
   "cell_type": "code",
   "execution_count": 4,
   "metadata": {},
   "outputs": [
    {
     "data": {
      "text/plain": [
       "<matplotlib.axes._subplots.AxesSubplot at 0x10d7c0ba8>"
      ]
     },
     "execution_count": 4,
     "metadata": {},
     "output_type": "execute_result"
    },
    {
     "data": {
      "image/png": "[encoded data removed]",
      "text/plain": [
       "<Figure size 432x288 with 1 Axes>"
      ]
     },
     "metadata": {
      "needs_background": "light"
     },
     "output_type": "display_data"
    }
   ],
   "source": [
    "df.default.hist()"
   ]
  },
  {
   "cell_type": "code",
   "execution_count": 5,
   "metadata": {},
   "outputs": [
    {
     "data": {
      "text/plain": [
       "0.014522821576763486"
      ]
     },
     "execution_count": 5,
     "metadata": {},
     "output_type": "execute_result"
    }
   ],
   "source": [
    "len(df[df.default==1])/len(df[df.default==0])"
   ]
  },
  {
   "cell_type": "markdown",
   "metadata": {},
   "source": [
    "We can see that the classes are highly imbalanced, with defaulted population being about only 1.5% of the non-defaulted population."
   ]
  },
  {
   "cell_type": "code",
   "execution_count": 6,
   "metadata": {},
   "outputs": [
    {
     "data": {
      "text/plain": [
       "uuid                                    object\n",
       "default                                float64\n",
       "account_amount_added_12_24m              int64\n",
       "account_days_in_dc_12_24m              float64\n",
       "account_days_in_rem_12_24m             float64\n",
       "account_days_in_term_12_24m            float64\n",
       "account_incoming_debt_vs_paid_0_24m    float64\n",
       "account_status                         float64\n",
       "account_worst_status_0_3m              float64\n",
       "account_worst_status_12_24m            float64\n",
       "account_worst_status_3_6m              float64\n",
       "account_worst_status_6_12m             float64\n",
       "age                                      int64\n",
       "avg_payment_span_0_12m                 float64\n",
       "avg_payment_span_0_3m                  float64\n",
       "merchant_category                       object\n",
       "merchant_group                          object\n",
       "has_paid                                  bool\n",
       "max_paid_inv_0_12m                     float64\n",
       "max_paid_inv_0_24m                     float64\n",
       "name_in_email                           object\n",
       "num_active_div_by_paid_inv_0_12m       float64\n",
       "num_active_inv                           int64\n",
       "num_arch_dc_0_12m                        int64\n",
       "num_arch_dc_12_24m                       int64\n",
       "num_arch_ok_0_12m                        int64\n",
       "num_arch_ok_12_24m                       int64\n",
       "num_arch_rem_0_12m                       int64\n",
       "num_arch_written_off_0_12m             float64\n",
       "num_arch_written_off_12_24m            float64\n",
       "num_unpaid_bills                         int64\n",
       "status_last_archived_0_24m               int64\n",
       "status_2nd_last_archived_0_24m           int64\n",
       "status_3rd_last_archived_0_24m           int64\n",
       "status_max_archived_0_6_months           int64\n",
       "status_max_archived_0_12_months          int64\n",
       "status_max_archived_0_24_months          int64\n",
       "recovery_debt                            int64\n",
       "sum_capital_paid_account_0_12m           int64\n",
       "sum_capital_paid_account_12_24m          int64\n",
       "sum_paid_inv_0_12m                       int64\n",
       "time_hours                             float64\n",
       "worst_status_active_inv                float64\n",
       "dtype: object"
      ]
     },
     "execution_count": 6,
     "metadata": {},
     "output_type": "execute_result"
    }
   ],
   "source": [
    "df.dtypes"
   ]
  },
  {
   "cell_type": "markdown",
   "metadata": {},
   "source": [
    "Filter out the rows where data.default==NaN and remove the user id and target value from the feature space:"
   ]
  },
  {
   "cell_type": "code",
   "execution_count": 7,
   "metadata": {},
   "outputs": [],
   "source": [
    "#Drop rows where default value not set:\n",
    "data = df.dropna(subset=['default']) \n",
    "\n",
    "def get_feature_space(data): #Input original dataframe \n",
    "    data.set_index('uuid', inplace=True)\n",
    "    features = data.drop(['default'],1)\n",
    "    return features"
   ]
  },
  {
   "cell_type": "markdown",
   "metadata": {},
   "source": [
    "Group different types of features:"
   ]
  },
  {
   "cell_type": "code",
   "execution_count": 8,
   "metadata": {},
   "outputs": [],
   "source": [
    "features = get_feature_space(data)\n",
    "features_num = [features.dtypes.index[i] for i in range(len(features.columns)) if  features.dtypes[i]== 'float64' or features.dtypes[i]== 'int64']\n",
    "features_cat = [features.dtypes.index[i] for i in range(len(features.columns)) if  features.dtypes[i]== 'bool' or features.dtypes[i]== 'object']"
   ]
  },
  {
   "cell_type": "code",
   "execution_count": null,
   "metadata": {},
   "outputs": [],
   "source": [
    "for feature in features_cat:\n",
    "    print (feature, data[feature].value_counts(dropna=False))"
   ]
  },
  {
   "cell_type": "code",
   "execution_count": null,
   "metadata": {},
   "outputs": [],
   "source": [
    "for feature in features_num:\n",
    "    print (feature, data[feature].value_counts(dropna=False))"
   ]
  },
  {
   "cell_type": "markdown",
   "metadata": {},
   "source": [
    "### Deal with missing values"
   ]
  },
  {
   "cell_type": "markdown",
   "metadata": {},
   "source": [
    "Features with more than 50% missing values:"
   ]
  },
  {
   "cell_type": "code",
   "execution_count": 9,
   "metadata": {},
   "outputs": [
    {
     "name": "stdout",
     "output_type": "stream",
     "text": [
      "Index(['account_incoming_debt_vs_paid_0_24m', 'account_status',\n",
      "       'account_worst_status_0_3m', 'account_worst_status_12_24m',\n",
      "       'account_worst_status_3_6m', 'account_worst_status_6_12m',\n",
      "       'worst_status_active_inv'],\n",
      "      dtype='object')\n"
     ]
    }
   ],
   "source": [
    "high_na_features = features.columns[(features.isnull().sum()/len(features))>0.5]\n",
    "print (high_na_features)"
   ]
  },
  {
   "cell_type": "code",
   "execution_count": null,
   "metadata": {},
   "outputs": [],
   "source": [
    "features.account_status.value_counts()"
   ]
  },
  {
   "cell_type": "markdown",
   "metadata": {},
   "source": [
    "Fill the missing values with 0 for features that have more than 50% missing values:"
   ]
  },
  {
   "cell_type": "code",
   "execution_count": 10,
   "metadata": {},
   "outputs": [],
   "source": [
    "def fill_missing_values(features): #Fill missing values with 0 to part of the features\n",
    "    for feature in high_na_features:\n",
    "        features[feature].fillna(0, inplace=True)\n",
    "    return features"
   ]
  },
  {
   "cell_type": "code",
   "execution_count": 11,
   "metadata": {},
   "outputs": [],
   "source": [
    "features = fill_missing_values(features)"
   ]
  },
  {
   "cell_type": "markdown",
   "metadata": {},
   "source": [
    "For other features, we take the median to impute the NaN values:"
   ]
  },
  {
   "cell_type": "code",
   "execution_count": 12,
   "metadata": {},
   "outputs": [
    {
     "name": "stderr",
     "output_type": "stream",
     "text": [
      "/usr/local/lib/python3.6/site-packages/sklearn/utils/deprecation.py:58: DeprecationWarning: Class Imputer is deprecated; Imputer was deprecated in version 0.20 and will be removed in 0.22. Import impute.SimpleImputer from sklearn instead.\n",
      "  warnings.warn(msg, category=DeprecationWarning)\n"
     ]
    }
   ],
   "source": [
    "imputer = Imputer(missing_values = 'NaN', strategy = 'median', axis = 0)\n",
    "imputer.fit(features[features_num]) \n",
    "\n",
    "def inpute_missing_values(features):\n",
    "        data_features_num = pd.DataFrame(imputer.transform(features[features_num]),index=features.index, columns=features_num)\n",
    "        return data_features_num"
   ]
  },
  {
   "cell_type": "code",
   "execution_count": 13,
   "metadata": {},
   "outputs": [],
   "source": [
    "data_features_num = inpute_missing_values(features)"
   ]
  },
  {
   "cell_type": "markdown",
   "metadata": {},
   "source": [
    "### Encoding categorical features"
   ]
  },
  {
   "cell_type": "markdown",
   "metadata": {},
   "source": [
    "Here we use the technique called \"one-hot\" encoding to transform the categorical features, before we can do that, we need to use the \"labelencoder\" to transform them into numerical labels:"
   ]
  },
  {
   "cell_type": "code",
   "execution_count": 14,
   "metadata": {},
   "outputs": [
    {
     "name": "stderr",
     "output_type": "stream",
     "text": [
      "/usr/local/lib/python3.6/site-packages/sklearn/preprocessing/_encoders.py:368: FutureWarning: The handling of integer data will change in version 0.22. Currently, the categories are determined based on the range [0, max(values)], while in the future they will be determined based on the unique values.\n",
      "If you want the future behaviour and silence this warning, you can specify \"categories='auto'\".\n",
      "In case you used a LabelEncoder before this OneHotEncoder to convert the categories to integers, then you can now use the OneHotEncoder directly.\n",
      "  warnings.warn(msg, FutureWarning)\n"
     ]
    }
   ],
   "source": [
    "#Build label encoder first:\n",
    "X_cat_label = pd.DataFrame(index=features.index) #Dataframe with encoded labels\n",
    "labelencoders=[]\n",
    "labels=[]\n",
    "\n",
    "for feature in features_cat:\n",
    "    le = preprocessing.LabelEncoder()\n",
    "    X_cat_label[feature] = le.fit_transform(features[feature])\n",
    "    labels.append(le.classes_)\n",
    "    labelencoders.append(le)\n",
    "\n",
    "labels = np.concatenate(labels)\n",
    "\n",
    "#joblib.dump(labelencoders, \"labelencoders.pkl\")\n",
    "\n",
    "# Build one-hot encoder:\n",
    "enc = OneHotEncoder()\n",
    "X_hotEncoded = enc.fit_transform(X_cat_label).toarray()\n",
    "feature_labels = list(labels)\n",
    "\n",
    "X_cat = pd.DataFrame(X_hotEncoded, columns=feature_labels, index=features.index)\n",
    "X = pd.concat([X_cat, data_features_num], axis=1)\n",
    "\n",
    "#joblib.dump(enc, \"onehotencoder.pkl\")"
   ]
  },
  {
   "cell_type": "code",
   "execution_count": 15,
   "metadata": {},
   "outputs": [
    {
     "data": {
      "text/plain": [
       "(89976, 116)"
      ]
     },
     "execution_count": 15,
     "metadata": {},
     "output_type": "execute_result"
    }
   ],
   "source": [
    "X.shape"
   ]
  },
  {
   "cell_type": "markdown",
   "metadata": {},
   "source": [
    "### Prepare training data and testing data"
   ]
  },
  {
   "cell_type": "code",
   "execution_count": 16,
   "metadata": {},
   "outputs": [],
   "source": [
    "def split_data(X, y):\n",
    "    X_train, X_test, y_train, y_test = train_test_split(X, y, test_size=0.3, random_state=0)\n",
    "    print(\"Training length: \" +str(len(y_train)))\n",
    "    print(\"Test length: \" +str(len(y_test)))\n",
    "    \n",
    "    return X_train, X_test, y_train, y_test"
   ]
  },
  {
   "cell_type": "code",
   "execution_count": 17,
   "metadata": {},
   "outputs": [],
   "source": [
    "y = data.default"
   ]
  },
  {
   "cell_type": "code",
   "execution_count": 18,
   "metadata": {},
   "outputs": [
    {
     "name": "stdout",
     "output_type": "stream",
     "text": [
      "Training length: 62983\n",
      "Test length: 26993\n"
     ]
    }
   ],
   "source": [
    "X_train, X_test, y_train, y_test = split_data(X, y)"
   ]
  },
  {
   "cell_type": "markdown",
   "metadata": {},
   "source": [
    "### Model build"
   ]
  },
  {
   "cell_type": "code",
   "execution_count": 19,
   "metadata": {},
   "outputs": [],
   "source": [
    "rf_clf = RandomForestClassifier(n_estimators=200, min_samples_leaf=5, max_features=4, \n",
    "                                class_weight=\"balanced\", \n",
    "                                n_jobs=-1, oob_score=True, verbose=True, random_state=0)"
   ]
  },
  {
   "cell_type": "code",
   "execution_count": 20,
   "metadata": {},
   "outputs": [
    {
     "name": "stderr",
     "output_type": "stream",
     "text": [
      "[Parallel(n_jobs=-1)]: Using backend ThreadingBackend with 4 concurrent workers.\n",
      "[Parallel(n_jobs=-1)]: Done  42 tasks      | elapsed:    1.1s\n",
      "[Parallel(n_jobs=-1)]: Done 192 tasks      | elapsed:    5.0s\n",
      "[Parallel(n_jobs=-1)]: Done 200 out of 200 | elapsed:    5.2s finished\n"
     ]
    },
    {
     "data": {
      "text/plain": [
       "RandomForestClassifier(bootstrap=True, class_weight='balanced',\n",
       "            criterion='gini', max_depth=None, max_features=4,\n",
       "            max_leaf_nodes=None, min_impurity_decrease=0.0,\n",
       "            min_impurity_split=None, min_samples_leaf=5,\n",
       "            min_samples_split=2, min_weight_fraction_leaf=0.0,\n",
       "            n_estimators=200, n_jobs=-1, oob_score=True, random_state=0,\n",
       "            verbose=True, warm_start=False)"
      ]
     },
     "execution_count": 20,
     "metadata": {},
     "output_type": "execute_result"
    }
   ],
   "source": [
    "rf_clf.fit(X_train, y_train)"
   ]
  },
  {
   "cell_type": "markdown",
   "metadata": {},
   "source": [
    "## Validation of the model"
   ]
  },
  {
   "cell_type": "markdown",
   "metadata": {},
   "source": [
    "For binary classification, we usually evaluate with precision and recall / F1 score and auc of the Roc curve instaead of accuracy. \n",
    "\n",
    "* precision = tp / (tp + fp)\n",
    "* recall = tp / (tp + fn)\n",
    "* f1 = 2(precision)(recall) / (precision + recall)\n",
    "* Roc curve area"
   ]
  },
  {
   "cell_type": "code",
   "execution_count": 22,
   "metadata": {},
   "outputs": [
    {
     "name": "stderr",
     "output_type": "stream",
     "text": [
      "[Parallel(n_jobs=4)]: Using backend ThreadingBackend with 4 concurrent workers.\n",
      "[Parallel(n_jobs=4)]: Done  42 tasks      | elapsed:    0.1s\n",
      "[Parallel(n_jobs=4)]: Done 192 tasks      | elapsed:    0.4s\n",
      "[Parallel(n_jobs=4)]: Done 200 out of 200 | elapsed:    0.4s finished\n",
      "[Parallel(n_jobs=4)]: Using backend ThreadingBackend with 4 concurrent workers.\n",
      "[Parallel(n_jobs=4)]: Done  42 tasks      | elapsed:    0.1s\n",
      "[Parallel(n_jobs=4)]: Done 192 tasks      | elapsed:    0.4s\n",
      "[Parallel(n_jobs=4)]: Done 200 out of 200 | elapsed:    0.4s finished\n"
     ]
    }
   ],
   "source": [
    "y_test_pred = rf_clf.predict(X_test)\n",
    "y_pred_pb = rf_clf.predict_proba(X_test)[:, 1]\n",
    "\n",
    "def plot_roc_curve(y_test, y_pred_pb):\n",
    "    fpr_rf, tpr_rf, _ = roc_curve(y_test, y_pred_pb)\n",
    "\n",
    "    plt.figure(1)\n",
    "    plt.plot([0, 1], [0, 1], 'k--')\n",
    "    plt.plot(fpr_rf, tpr_rf, label='RF')\n",
    "    plt.xlabel('False positive rate')\n",
    "    plt.ylabel('True positive rate')\n",
    "    plt.title('ROC curve')\n",
    "    plt.legend(loc='best')\n",
    "    plt.show()\n",
    "\n",
    "    print('Roc_auc Score: {:.3f} \\nPrecison Score:{:.3f} \\nRecall Score:{:.3f} \\nF1 Score (defaulter class):{:.3f}'\n",
    "          .format(roc_auc_score(y_test, y_test_pred),\n",
    "                 precision_score(y_test, y_test_pred),\n",
    "                 recall_score(y_test, y_test_pred),\n",
    "                 f1_score(y_test, y_test_pred)))"
   ]
  },
  {
   "cell_type": "code",
   "execution_count": 23,
   "metadata": {},
   "outputs": [
    {
     "data": {
      "image/png": "[encoded data removed]",
      "text/plain": [
       "<Figure size 432x288 with 1 Axes>"
      ]
     },
     "metadata": {
      "needs_background": "light"
     },
     "output_type": "display_data"
    },
    {
     "name": "stdout",
     "output_type": "stream",
     "text": [
      "Roc_auc Score: 0.748 \n",
      "Precison Score:0.116 \n",
      "Recall Score:0.563 \n",
      "F1 Score (defaulter class):0.192\n"
     ]
    }
   ],
   "source": [
    "plot_roc_curve(y_test, y_pred_pb)"
   ]
  },
  {
   "cell_type": "markdown",
   "metadata": {},
   "source": [
    "The classification report is shown as following:"
   ]
  },
  {
   "cell_type": "code",
   "execution_count": 24,
   "metadata": {},
   "outputs": [
    {
     "name": "stdout",
     "output_type": "stream",
     "text": [
      "              precision    recall  f1-score   support\n",
      "\n",
      "         0.0       0.99      0.93      0.96     26586\n",
      "         1.0       0.12      0.56      0.19       407\n",
      "\n",
      "   micro avg       0.93      0.93      0.93     26993\n",
      "   macro avg       0.55      0.75      0.58     26993\n",
      "weighted avg       0.98      0.93      0.95     26993\n",
      "\n"
     ]
    }
   ],
   "source": [
    "print (metrics.classification_report(y_test, y_test_pred))"
   ]
  },
  {
   "cell_type": "markdown",
   "metadata": {},
   "source": [
    "### Feature importance:"
   ]
  },
  {
   "cell_type": "code",
   "execution_count": 25,
   "metadata": {},
   "outputs": [
    {
     "data": {
      "image/png": "[encoded data removed]",
      "text/plain": [
       "<Figure size 432x288 with 1 Axes>"
      ]
     },
     "metadata": {
      "needs_background": "light"
     },
     "output_type": "display_data"
    }
   ],
   "source": [
    "X_names = X_cat.columns.tolist()\n",
    "X_names.extend(features_num)\n",
    "\n",
    "imp = rf_clf.feature_importances_\n",
    "sortNames = [y for (x,y) in sorted(zip(imp,X_names)) if x>0.03]\n",
    "sortImp = [x for (x,y) in sorted(zip(imp,X_names)) if x>0.03]\n",
    "\n",
    "fig = plt.figure()\n",
    "ind = np.arange(len(sortImp))\n",
    "width = .75\n",
    "plt.bar(ind, sortImp, width=width)\n",
    "plt.xticks(ind + width / 2, sortNames)\n",
    "fig.autofmt_xdate()\n",
    "plt.grid(True)\n",
    "plt.title('Feature ranking (high values more influential)')\n",
    "plt.show()"
   ]
  },
  {
   "cell_type": "markdown",
   "metadata": {},
   "source": [
    "### Apply trained model to predict the datapoints where default values not set"
   ]
  },
  {
   "cell_type": "markdown",
   "metadata": {},
   "source": [
    "To predict the new samples not in training or test dataset, we will need to run the whole preprocessing steps predefined in the training-validation phase on the new data to transform it into the desired format and then apply the already trained model to predict:"
   ]
  },
  {
   "cell_type": "code",
   "execution_count": 26,
   "metadata": {},
   "outputs": [],
   "source": [
    "#Getting the dataframe that needs prediction:\n",
    "data_pred = df[df.default.isnull()]"
   ]
  },
  {
   "cell_type": "code",
   "execution_count": 27,
   "metadata": {},
   "outputs": [],
   "source": [
    "def preprocess_pipeline(data):\n",
    "    \n",
    "    features = get_feature_space(data)\n",
    "    features = fill_missing_values(features)\n",
    "    data_features_num = inpute_missing_values(features)\n",
    "    \n",
    "    X_le = []\n",
    "    for i, le in enumerate(labelencoders):\n",
    "         X_le.append(le.transform(features[features_cat[i]]))\n",
    "\n",
    "    X_hotEncoded = enc.transform(np.asarray(X_le).T)\n",
    "    X = np.concatenate([X_hotEncoded.toarray(), data_features_num], axis=1)\n",
    "    X = pd.DataFrame(X, index=features.index)\n",
    "    \n",
    "    return X"
   ]
  },
  {
   "cell_type": "code",
   "execution_count": 28,
   "metadata": {},
   "outputs": [],
   "source": [
    "data_pred_X = preprocess_pipeline(data_pred)"
   ]
  },
  {
   "cell_type": "code",
   "execution_count": 29,
   "metadata": {},
   "outputs": [
    {
     "name": "stderr",
     "output_type": "stream",
     "text": [
      "[Parallel(n_jobs=4)]: Using backend ThreadingBackend with 4 concurrent workers.\n",
      "[Parallel(n_jobs=4)]: Done  42 tasks      | elapsed:    0.1s\n",
      "[Parallel(n_jobs=4)]: Done 192 tasks      | elapsed:    0.2s\n",
      "[Parallel(n_jobs=4)]: Done 200 out of 200 | elapsed:    0.2s finished\n"
     ]
    }
   ],
   "source": [
    "data_pred_pb = pd.DataFrame(rf_clf.predict_proba(data_pred_X)[:,1],index=data_pred_X.index,columns=['pb'])"
   ]
  },
  {
   "cell_type": "code",
   "execution_count": 30,
   "metadata": {},
   "outputs": [
    {
     "data": {
      "text/html": [
       "<div>\n",
       "<style scoped>\n",
       "    .dataframe tbody tr th:only-of-type {\n",
       "        vertical-align: middle;\n",
       "    }\n",
       "\n",
       "    .dataframe tbody tr th {\n",
       "        vertical-align: top;\n",
       "    }\n",
       "\n",
       "    .dataframe thead th {\n",
       "        text-align: right;\n",
       "    }\n",
       "</style>\n",
       "<table border=\"1\" class=\"dataframe\">\n",
       "  <thead>\n",
       "    <tr style=\"text-align: right;\">\n",
       "      <th></th>\n",
       "      <th>pb</th>\n",
       "    </tr>\n",
       "    <tr>\n",
       "      <th>uuid</th>\n",
       "      <th></th>\n",
       "    </tr>\n",
       "  </thead>\n",
       "  <tbody>\n",
       "    <tr>\n",
       "      <th>6f6e6c6a-2081-4e6b-8eb3-4fd89b54b2d7</th>\n",
       "      <td>0.069098</td>\n",
       "    </tr>\n",
       "    <tr>\n",
       "      <th>f6f6d9f3-ef2b-4329-a388-c6a687f27e70</th>\n",
       "      <td>0.254669</td>\n",
       "    </tr>\n",
       "    <tr>\n",
       "      <th>e9c39869-1bc5-4375-b627-a2df70b445ea</th>\n",
       "      <td>0.176117</td>\n",
       "    </tr>\n",
       "    <tr>\n",
       "      <th>6beb88a3-9641-4381-beb6-c9a208664dd0</th>\n",
       "      <td>0.276409</td>\n",
       "    </tr>\n",
       "    <tr>\n",
       "      <th>bb89b735-72fe-42a4-ba06-d63be0f4ca36</th>\n",
       "      <td>0.528892</td>\n",
       "    </tr>\n",
       "  </tbody>\n",
       "</table>\n",
       "</div>"
      ],
      "text/plain": [
       "                                            pb\n",
       "uuid                                          \n",
       "6f6e6c6a-2081-4e6b-8eb3-4fd89b54b2d7  0.069098\n",
       "f6f6d9f3-ef2b-4329-a388-c6a687f27e70  0.254669\n",
       "e9c39869-1bc5-4375-b627-a2df70b445ea  0.176117\n",
       "6beb88a3-9641-4381-beb6-c9a208664dd0  0.276409\n",
       "bb89b735-72fe-42a4-ba06-d63be0f4ca36  0.528892"
      ]
     },
     "execution_count": 30,
     "metadata": {},
     "output_type": "execute_result"
    }
   ],
   "source": [
    "data_pred_pb.head()"
   ]
  },
  {
   "cell_type": "code",
   "execution_count": null,
   "metadata": {},
   "outputs": [],
   "source": [
    "data_pred_pb.to_csv('output_pb.csv')"
   ]
  },
  {
   "cell_type": "code",
   "execution_count": null,
   "metadata": {},
   "outputs": [],
   "source": []
  }
 ],
 "metadata": {
  "kernelspec": {
   "display_name": "Python 3",
   "language": "python",
   "name": "python3"
  },
  "language_info": {
   "codemirror_mode": {
    "name": "ipython",
    "version": 3
   },
   "file_extension": ".py",
   "mimetype": "text/x-python",
   "name": "python",
   "nbconvert_exporter": "python",
   "pygments_lexer": "ipython3",
   "version": "3.6.5"
  }
 },
 "nbformat": 4,
 "nbformat_minor": 2
}
